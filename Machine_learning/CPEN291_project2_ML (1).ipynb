{
  "cells": [
    {
      "cell_type": "code",
      "execution_count": null,
      "metadata": {
        "colab": {
          "base_uri": "https://localhost:8080/"
        },
        "id": "QWzvCefqiMtl",
        "outputId": "63d43ede-2c15-42a6-f94a-fb71831374b0"
      },
      "outputs": [],
      "source": [
        "#clone YOLOv5 and \n",
        "!git clone https://github.com/ultralytics/yolov5  # clone repo\n",
        "%cd yolov5\n",
        "%pip install -qr requirements.txt # install dependencies\n",
        "%pip install -q roboflow\n",
        "\n",
        "import torch\n",
        "import os\n",
        "from IPython.display import Image, clear_output  # to display images\n",
        "\n",
        "print(f\"Setup complete. Using torch {torch.__version__} ({torch.cuda.get_device_properties(0).name if torch.cuda.is_available() else 'CPU'})\")"
      ]
    },
    {
      "cell_type": "markdown",
      "metadata": {
        "id": "66ttgFBUmtAf"
      },
      "source": [
        "Create our own dataset using Roboflow\n",
        "https://app.roboflow.com/cpen291g8/electronic-components-recognition/overview\n",
        "\n",
        "\n",
        "We can add more data from public dataset later\n",
        "https://universe.roboflow.com/?ref=ultralytics"
      ]
    },
    {
      "cell_type": "code",
      "execution_count": null,
      "metadata": {
        "id": "SuNyn6zVopHC"
      },
      "outputs": [],
      "source": [
        "# set up environment\n",
        "os.environ[\"DATASET_DIRECTORY\"] = \"/content/datasets\""
      ]
    },
    {
      "cell_type": "code",
      "execution_count": null,
      "metadata": {
        "colab": {
          "base_uri": "https://localhost:8080/"
        },
        "id": "ZFWVypbvu50N",
        "outputId": "b04c47b3-26c5-4a97-84e8-91923f84c5a7"
      },
      "outputs": [],
      "source": [
        "!pip install roboflow\n",
        "\n",
        "from roboflow import Roboflow\n",
        "rf = Roboflow(api_key=\"hlzonP37dxksdXcAFRm6\")\n",
        "project = rf.workspace(\"cpen291g8\").project(\"own-dataset-o03rf\")\n",
        "dataset = project.version(1).download(\"yolov5\")\n"
      ]
    },
    {
      "cell_type": "code",
      "execution_count": null,
      "metadata": {
        "colab": {
          "base_uri": "https://localhost:8080/"
        },
        "id": "RRTfEV4Bu_ZZ",
        "outputId": "e27c2fbb-5538-4c7c-85eb-cca045000e5e"
      },
      "outputs": [],
      "source": [
        "!python train.py --img 640 --batch 16 --epochs 500 --data {dataset.location}/data.yaml --weights yolov5s.pt --cache"
      ]
    },
    {
      "cell_type": "code",
      "execution_count": null,
      "metadata": {
        "id": "9GnQH1CBxIZM"
      },
      "outputs": [],
      "source": [
        "# # Start tensorboard\n",
        "# # Launch after you have started training\n",
        "# # logs save in the folder \"runs\"\n",
        "# %load_ext tensorboard\n",
        "# %tensorboard --logdir runs"
      ]
    },
    {
      "cell_type": "code",
      "execution_count": null,
      "metadata": {
        "colab": {
          "base_uri": "https://localhost:8080/"
        },
        "id": "gh8jxrFHxRtV",
        "outputId": "65c6c823-51e0-4f3b-823f-9cc1da3ca76b"
      },
      "outputs": [],
      "source": [
        "!python detect.py --weights /content/yolov5/runs/train/exp4/weights/best.pt --img 640 --conf 0.1 --source {dataset.location}/test/images"
      ]
    },
    {
      "cell_type": "code",
      "execution_count": null,
      "metadata": {
        "colab": {
          "base_uri": "https://localhost:8080/",
          "height": 1000
        },
        "id": "_bLdeFolxSee",
        "outputId": "07933791-d588-46c2-d1ab-67362803a3f5"
      },
      "outputs": [],
      "source": [
        "#display inference on ALL test images\n",
        "\n",
        "import glob\n",
        "from IPython.display import Image, display\n",
        "\n",
        "for imageName in glob.glob('/content/yolov5/runs/detect/exp4/*.jpg'): #assuming JPG\n",
        "    display(Image(filename=imageName))\n",
        "    print(\"\\n\")"
      ]
    },
    {
      "cell_type": "code",
      "execution_count": null,
      "metadata": {
        "id": "npgTQcUyLbEP"
      },
      "outputs": [],
      "source": [
        "# !zip -r /content/file.zip /content/yolov5\n",
        "# from google.colab import files\n",
        "# files.download(\"/content/file.zip\")"
      ]
    },
    {
      "cell_type": "code",
      "execution_count": null,
      "metadata": {
        "id": "Bga8jVGAOD3f"
      },
      "outputs": [],
      "source": []
    }
  ],
  "metadata": {
    "accelerator": "GPU",
    "colab": {
      "provenance": []
    },
    "gpuClass": "standard",
    "kernelspec": {
      "display_name": "Python 3",
      "name": "python3"
    },
    "language_info": {
      "name": "python"
    }
  },
  "nbformat": 4,
  "nbformat_minor": 0
}
