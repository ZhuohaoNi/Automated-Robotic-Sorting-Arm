{
 "cells": [
  {
   "cell_type": "code",
   "execution_count": null,
   "metadata": {},
   "outputs": [],
   "source": [
    "import torch\n",
    "import cv2\n",
    "\n",
    "# Load the pre-trained YOLOv5 model\n",
    "model = torch.hub.load('ultralytics/yolov5', 'custom', '/Users/xxni/UBC/CPEN291/Project2/yolov5/runs/train/exp/weights/best.pt')\n",
    "\n",
    "# Define the index of your webcam (usually 0 or 1)\n",
    "webcam_index = 0\n",
    "\n",
    "# Open the webcam using OpenCV\n",
    "cap = cv2.VideoCapture(webcam_index)\n",
    "\n"
   ]
  },
  {
   "cell_type": "code",
   "execution_count": null,
   "metadata": {},
   "outputs": [],
   "source": [
    "# Define the output video codec and dimensions\n",
    "fourcc = cv2.VideoWriter_fourcc(*'mp4v')\n",
    "width = int(cap.get(cv2.CAP_PROP_FRAME_WIDTH))\n",
    "height = int(cap.get(cv2.CAP_PROP_FRAME_HEIGHT))\n",
    "fps = int(cap.get(cv2.CAP_PROP_FPS))\n",
    "out = cv2.VideoWriter('/Users/xxni/UBC/CPEN291/Project2/output.mp4', fourcc, fps, (width, height))\n",
    "\n",
    "# Loop over each frame in the video file\n",
    "while cap.isOpened():\n",
    "    # Read the next frame from the video file\n",
    "    ret, frame = cap.read()\n",
    "    \n",
    "    if ret:\n",
    "        frame = cv2.cvtColor(frame, cv2.COLOR_BGR2RGB)\n",
    "        # Perform object detection on the current frame using the YOLOv5 model\n",
    "        results = model(frame)\n",
    "\n",
    "        # Draw bounding boxes around the detected objects\n",
    "        results.render()\n",
    "\n",
    "        # Display the results\n",
    "        cv2.imshow('Object Detection', cv2.cvtColor(results.render()[0], cv2.COLOR_RGB2BGR))\n",
    "\n",
    "        # Exit the loop if the 'q' key is pressed\n",
    "        if cv2.waitKey(1) & 0xFF == ord('q'):\n",
    "            break\n",
    "    else:\n",
    "        break\n",
    "# Release the video file and output video file\n",
    "cap.release()\n",
    "out.release()\n",
    "\n",
    "# Close all windows\n",
    "cv2.destroyAllWindows()\n"
   ]
  }
 ],
 "metadata": {
  "kernelspec": {
   "display_name": "base",
   "language": "python",
   "name": "python3"
  },
  "language_info": {
   "codemirror_mode": {
    "name": "ipython",
    "version": 3
   },
   "file_extension": ".py",
   "mimetype": "text/x-python",
   "name": "python",
   "nbconvert_exporter": "python",
   "pygments_lexer": "ipython3",
   "version": "3.9.16"
  },
  "orig_nbformat": 4
 },
 "nbformat": 4,
 "nbformat_minor": 2
}
